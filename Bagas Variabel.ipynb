{
 "cells": [
  {
   "cell_type": "code",
   "execution_count": 6,
   "id": "6508f7db",
   "metadata": {},
   "outputs": [
    {
     "name": "stdout",
     "output_type": "stream",
     "text": [
      "Nama: Bagus\n",
      "Alamat : Jl cicantayan\n",
      "Umur : 19\n",
      "nilai: 0\n",
      "Nikah: True\n"
     ]
    }
   ],
   "source": [
    "name = \"Bagus\"\n",
    "address = \"Jl cicantayan\"\n",
    "age = 19\n",
    "scorePython = 0\n",
    "ismarried = True\n",
    "\n",
    "print(\"Nama:\",name)\n",
    "print(\"Alamat :\", address)\n",
    "print(\"Umur :\",age)\n",
    "print(\"nilai:\", scorePython)\n",
    "print(\"Nikah:\",ismarried)\n",
    "\n"
   ]
  },
  {
   "cell_type": "code",
   "execution_count": 8,
   "id": "16d53b15",
   "metadata": {},
   "outputs": [
    {
     "name": "stdout",
     "output_type": "stream",
     "text": [
      "tipe data <name>: <class 'str'>\n",
      "tipe data <address>: <class 'str'>\n",
      "tipe data <age>: <class 'int'>\n",
      "tipe data <score>: <class 'int'>\n",
      "tipe data <ismarried <class 'bool'>\n"
     ]
    }
   ],
   "source": [
    "print(\"tipe data <name>:\",type(name))\n",
    "print(\"tipe data <address>:\",type(address))\n",
    "print(\"tipe data <age>:\",type (age))\n",
    "print(\"tipe data <score>:\",type (scorePython))\n",
    "print(\"tipe data <ismarried\",type (ismarried))"
   ]
  },
  {
   "cell_type": "code",
   "execution_count": 20,
   "id": "ffbdb7c7",
   "metadata": {},
   "outputs": [
    {
     "name": "stdout",
     "output_type": "stream",
     "text": [
      "1_19.0\n"
     ]
    }
   ],
   "source": [
    "strToInt = int(scorePython)\n",
    "strTobool = bool(ismarried)\n",
    "strToFloat = float(age)\n",
    "print(strToInt + strTobool,strToFloat, sep=\"_\")\n",
    "\n"
   ]
  },
  {
   "cell_type": "code",
   "execution_count": 24,
   "id": "1c55491d",
   "metadata": {},
   "outputs": [
    {
     "name": "stdout",
     "output_type": "stream",
     "text": [
      "Nilai desimal : 500\n",
      "Nilai biner : 10\n",
      "Nilai octal : 255\n",
      "Nilai biner dari  500 : 0b111110100\n",
      "Nilai Octal dari 500 : 0o764\n",
      "Nilai Hexa dari 500 : 0x1f4\n"
     ]
    }
   ],
   "source": [
    "desimal = 500\n",
    "biner = 0b1010 #10\n",
    "octal = 0o377 #255\n",
    "hexa = 0xff #255\n",
    "\n",
    "print(\"Nilai desimal :\",desimal)\n",
    "print(\"Nilai biner :\",biner)\n",
    "print(\"Nilai octal :\",hexa)\n",
    "\n",
    "print(\"Nilai biner dari \",desimal, \":\",bin(desimal))\n",
    "print(\"Nilai Octal dari\",desimal, \":\",oct(desimal))\n",
    "print(\"Nilai Hexa dari\",desimal, \":\",hex(desimal))\n",
    "\n"
   ]
  },
  {
   "cell_type": "code",
   "execution_count": 26,
   "id": "abf308f5",
   "metadata": {},
   "outputs": [
    {
     "name": "stdout",
     "output_type": "stream",
     "text": [
      "J\n",
      "7\n",
      "A\n"
     ]
    }
   ],
   "source": [
    "city = \"JAKARTA\"\n",
    "length = len(city)\n",
    "print(city[0])\n",
    "print(length)\n",
    "print(city[length-1])"
   ]
  },
  {
   "cell_type": "code",
   "execution_count": 27,
   "id": "c3131760",
   "metadata": {},
   "outputs": [
    {
     "name": "stdout",
     "output_type": "stream",
     "text": [
      "['Jakarta', 'Sukabumi', 'Bandung', 'Madura']\n",
      "Jakarta\n",
      "Madura\n",
      "M\n",
      "a\n",
      "['Bali', 'Sukabumi', 'Bandung', 'Madura']\n"
     ]
    }
   ],
   "source": [
    "#Tipe data Collection\n",
    "cities = [\"Jakarta\",\"Sukabumi\",\"Bandung\",\"Madura\"]\n",
    "lengthCities = len(cities)\n",
    "print(cities)\n",
    "print(cities[0])\n",
    "print(cities[lengthCities-1])\n",
    "print(cities[lengthCities-1][0])\n",
    "print(cities[lengthCities-1][len(cities[lengthCities-1])-1])\n",
    "cities[0] =\"Bali\"\n",
    "#cities[5] = \"Malang\" akan menyebabkan error out of range\n",
    "print(cities)"
   ]
  },
  {
   "cell_type": "code",
   "execution_count": 42,
   "id": "33ec28e9",
   "metadata": {},
   "outputs": [
    {
     "name": "stdout",
     "output_type": "stream",
     "text": [
      "('Reja', 'Jordi', 'Raihan')\n",
      "Jordi\n",
      "{'name': 'Raffa', 'age': '19', 'address': {'street': 'Cicantayan', 'province': 'Jawa Barat'}, 'isMarried': False, 'hobbies': ['Football', 'Nonton film']}\n",
      "19\n",
      "Jawa Barat\n",
      "Nonton film\n"
     ]
    }
   ],
   "source": [
    "names = (\"Reja\",\"Jordi\",\"Raihan\")\n",
    "print(names)\n",
    "print(names[1])\n",
    "#name[0] = \"Raffa\" error immutable tuple\n",
    "\n",
    "studentData = {\n",
    "   \"name\" : \"Raffa\",\n",
    "    \"age\" : \"19\",\n",
    "    \"address\" : {\n",
    "        \"street\" : \"Cicantayan\",\n",
    "        \"province\" : \"Jawa Barat\"\n",
    "        \n",
    "    },\n",
    "    \"isMarried\" : False,\n",
    "    \"hobbies\" : [\"Football\",\"Nonton film\"],\n",
    "}\n",
    "print(studentData)\n",
    "print(studentData[\"age\"])\n",
    "print(studentData[\"address\"][\"province\"])\n",
    "print(studentData[\"hobbies\"][1])"
   ]
  },
  {
   "cell_type": "code",
   "execution_count": 43,
   "id": "b81a6cf1",
   "metadata": {},
   "outputs": [
    {
     "name": "stdout",
     "output_type": "stream",
     "text": [
      "{'Name': 'Andi', 'age': 20, 'Status': True}\n",
      "{'Name': 'Tsunade', 'address': 'Konoha'}\n",
      "{'Name': 'Lion', 'Type': 'Karnivora'}\n"
     ]
    },
    {
     "ename": "TypeError",
     "evalue": "'type' object is not iterable",
     "output_type": "error",
     "traceback": [
      "\u001b[1;31m---------------------------------------------------------------------------\u001b[0m",
      "\u001b[1;31mTypeError\u001b[0m                                 Traceback (most recent call last)",
      "Input \u001b[1;32mIn [43]\u001b[0m, in \u001b[0;36m<cell line: 17>\u001b[1;34m()\u001b[0m\n\u001b[0;32m     15\u001b[0m keys \u001b[38;5;241m=\u001b[39m [\u001b[38;5;124m\"\u001b[39m\u001b[38;5;124mvehicle\u001b[39m\u001b[38;5;124m\"\u001b[39m,\u001b[38;5;124m\"\u001b[39m\u001b[38;5;124mBrand\u001b[39m\u001b[38;5;124m\"\u001b[39m,\u001b[38;5;124m\"\u001b[39m\u001b[38;5;124mIphone\u001b[39m\u001b[38;5;124m\"\u001b[39m]\n\u001b[0;32m     16\u001b[0m values \u001b[38;5;241m=\u001b[39m [\u001b[38;5;124m\"\u001b[39m\u001b[38;5;124mCar\u001b[39m\u001b[38;5;124m\"\u001b[39m,\u001b[38;5;124m\"\u001b[39m\u001b[38;5;124mSupra\u001b[39m\u001b[38;5;124m\"\u001b[39m,\u001b[38;5;241m2500\u001b[39m]\n\u001b[1;32m---> 17\u001b[0m car \u001b[38;5;241m=\u001b[39m (\u001b[38;5;28;43mdict\u001b[39;49m\u001b[43m(\u001b[49m\u001b[38;5;28;43mzip\u001b[39;49m\u001b[43m)\u001b[49m)\n",
      "\u001b[1;31mTypeError\u001b[0m: 'type' object is not iterable"
     ]
    }
   ],
   "source": [
    "#Konversi dictionary\n",
    "\n",
    "list_list = ([\"Name\",\"Andi\"],[\"age\",20],[\"Status\",True])\n",
    "dictListStudent = dict(list_list)\n",
    "print(dictListStudent)\n",
    "\n",
    "list_tuple = [(\"Name\",\"Tsunade\"),(\"address\",\"Konoha\")]\n",
    "dictTupleStudent = dict(list_tuple)\n",
    "print(dictTupleStudent)\n",
    "\n",
    "tuple_list = ([\"Name\",\"Lion\"],[\"Type\",\"Karnivora\"])\n",
    "dictListAnimal = dict(tuple_list)\n",
    "print(dictListAnimal)\n",
    "\n",
    "keys = [\"vehicle\",\"Brand\",\"Iphone\"]\n",
    "values = [\"Car\",\"Supra\",2500]\n",
    "car = (dict(zip))\n"
   ]
  },
  {
   "cell_type": "code",
   "execution_count": null,
   "id": "8f11be46",
   "metadata": {},
   "outputs": [],
   "source": []
  }
 ],
 "metadata": {
  "kernelspec": {
   "display_name": "Python 3 (ipykernel)",
   "language": "python",
   "name": "python3"
  },
  "language_info": {
   "codemirror_mode": {
    "name": "ipython",
    "version": 3
   },
   "file_extension": ".py",
   "mimetype": "text/x-python",
   "name": "python",
   "nbconvert_exporter": "python",
   "pygments_lexer": "ipython3",
   "version": "3.9.12"
  }
 },
 "nbformat": 4,
 "nbformat_minor": 5
}
